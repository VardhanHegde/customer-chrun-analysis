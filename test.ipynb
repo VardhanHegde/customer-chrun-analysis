{
 "cells": [
  {
   "cell_type": "code",
   "execution_count": 1,
   "metadata": {},
   "outputs": [
    {
     "name": "stderr",
     "output_type": "stream",
     "text": [
      "<>:3: SyntaxWarning: invalid escape sequence '\\m'\n",
      "<>:3: SyntaxWarning: invalid escape sequence '\\m'\n",
      "C:\\Users\\Admin\\AppData\\Local\\Temp\\ipykernel_76\\3606731534.py:3: SyntaxWarning: invalid escape sequence '\\m'\n",
      "  filename = 'artifacts\\model_trainer\\model.pkl'\n"
     ]
    },
    {
     "name": "stdout",
     "output_type": "stream",
     "text": [
      "RandomForestClassifier(class_weight='balanced', max_depth=10, n_estimators=50)\n"
     ]
    }
   ],
   "source": [
    "import pickle\n",
    "\n",
    "filename = 'artifacts\\model_trainer\\model.pkl'\n",
    "\n",
    "temp = pickle.load(open(filename, 'rb'))\n",
    "print(temp)"
   ]
  }
 ],
 "metadata": {
  "kernelspec": {
   "display_name": ".venv",
   "language": "python",
   "name": "python3"
  },
  "language_info": {
   "codemirror_mode": {
    "name": "ipython",
    "version": 3
   },
   "file_extension": ".py",
   "mimetype": "text/x-python",
   "name": "python",
   "nbconvert_exporter": "python",
   "pygments_lexer": "ipython3",
   "version": "3.12.0"
  }
 },
 "nbformat": 4,
 "nbformat_minor": 2
}
